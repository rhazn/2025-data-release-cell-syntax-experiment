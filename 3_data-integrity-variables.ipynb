{
 "cells": [
  {
   "cell_type": "markdown",
   "metadata": {},
   "source": [
    "# Data Integrity Checks"
   ]
  },
  {
   "cell_type": "markdown",
   "metadata": {},
   "source": [
    "## Make sure all values are expected"
   ]
  },
  {
   "cell_type": "code",
   "execution_count": 3,
   "metadata": {},
   "outputs": [
    {
     "name": "stdout",
     "output_type": "stream",
     "text": [
      "❔ Verifying no duplicate values\n",
      "✅ Found no duplicate values.\n",
      "❔ Verifying no NaN values\n",
      "✅ Found no NaN values.\n",
      "❔ Verifying no negative values in numeric columns\n",
      "✅ Found no negative values.\n",
      "❔ Verifying no values > 1 for correctness\n",
      "✅ Found no values > 1 for correctness.\n",
      "❔ Verifying no values > 40min for combined time\n",
      "✅ Found no values > 40min for combined time.\n"
     ]
    }
   ],
   "source": [
    "import pandas as pd\n",
    "\n",
    "df = pd.read_csv('./data/results_anon.csv', dtype = {'student_id_anon':str})\n",
    "\n",
    "print(f'❔ Verifying no duplicate values')\n",
    "if len(df['student_id_anon']) != df['student_id_anon'].nunique():\n",
    "    print(f'🔴 Expected no duplicate values, found {df.isnull().sum().sum()} duplicate values.')\n",
    "else:\n",
    "    print(f'✅ Found no duplicate values.')\n",
    "\n",
    "# We don't verify strings\n",
    "df = df.drop(columns=['seq', 'student_id_anon'])\n",
    "\n",
    "print(f'❔ Verifying no NaN values')\n",
    "if df.isnull().sum().sum() > 0:\n",
    "    print(f'🔴 Expected no NaN values, found {df.isnull().sum().sum()} NaN values.')\n",
    "else:\n",
    "    print(f'✅ Found no NaN values.')\n",
    "\n",
    "print(f'❔ Verifying no negative values in numeric columns')\n",
    "if (df.select_dtypes(include=['int64', 'float64']) < 0).any().any() > 0:\n",
    "    print(f'🔴 Expected no negative values, found {(df < 0).any().any()} negative values.')\n",
    "else:\n",
    "    print(f'✅ Found no negative values.')\n",
    "\n",
    "print(f'❔ Verifying no values > 1 for correctness')\n",
    "if (df[['t1_correctness', 't2_correctness', 't3_correctness', 't4_correctness', 't5_correctness', 't6_correctness', 't7_correctness', 't8_correctness', 't9_correctness']] > 1).any().any() > 0:\n",
    "    print(f'🔴 Expected no values > 1 for correctness, found values > 1 for correctness.')\n",
    "else:\n",
    "    print(f'✅ Found no values > 1 for correctness.')\n",
    "\n",
    "print(f'❔ Verifying no values > 40min for combined time')\n",
    "overTime = (df['t1_time'] + df['t2_time'] + df['t3_time'] + df['t4_time'] + df['t5_time'] + df['t6_time'] + df['t7_time'] +df['t8_time'] + df['t9_time'] > 40 * 60).any().any()\n",
    "if (overTime > 0):\n",
    "    print(f'🔴 Expected no values > 40min for combined time, found {overTime.sum()} values > 40min for combined time.')\n",
    "    print(f\"🔴 Maximum time: {(df['t1_time'] + df['t2_time'] + df['t3_time'] + df['t4_time'] + df['t5_time'] + df['t6_time'] + df['t7_time'] +df['t8_time'] + df['t9_time']).max() / 60} minutes.\")\n",
    "    print(f'✅ Considered okay and likely related to delay after being told about running out of time.')\n",
    "else:\n",
    "    print(f'✅ Found no values > 40min for combined time.')\n",
    "    "
   ]
  },
  {
   "cell_type": "markdown",
   "metadata": {},
   "source": [
    "## Mark outliers in times or correctness for future removal during analysis"
   ]
  },
  {
   "cell_type": "code",
   "execution_count": 4,
   "metadata": {},
   "outputs": [
    {
     "name": "stdout",
     "output_type": "stream",
     "text": [
      "🔴 24 experiments have values that are outliers according to 1.5 IQR\n"
     ]
    }
   ],
   "source": [
    "import pandas as pd\n",
    "\n",
    "outlierDetectionColumns = [\n",
    "    'time_write_jv',\n",
    "    'time_write_py',\n",
    "    'time_read_jv',\n",
    "    'time_read_py',\n",
    "    'correctness_write_jv',\n",
    "    'correctness_write_py',\n",
    "    'correctness_read_jv',\n",
    "    'correctness_read_py'\n",
    "]\n",
    "\n",
    "df = pd.read_csv('./data/results_anon.csv', dtype = {'student_id_anon':str})\n",
    "\n",
    "df['has_outlier'] = False\n",
    "\n",
    "for column in outlierDetectionColumns:\n",
    "    Q1 = df[column].quantile(0.25)\n",
    "    Q3 = df[column].quantile(0.75)\n",
    "\n",
    "    # Calculate IQR\n",
    "    IQR = Q3 - Q1\n",
    "\n",
    "    # Determine the lower and upper bounds\n",
    "    lower_bound = Q1 - 1.5 * IQR\n",
    "    upper_bound = Q3 + 1.5 * IQR\n",
    "\n",
    "    df[f'{column}_outlier'] = (df[column] < lower_bound) | (df[column] > upper_bound)\n",
    "\n",
    "outlierColumns = [f\"{col}_outlier\" for col in outlierDetectionColumns]\n",
    "\n",
    "df['has_outlier'] = df[outlierColumns].any(axis=1)\n",
    "\n",
    "df[df['has_outlier'] == False].to_csv('./data/results_anon_without_outliers.csv', index=False)\n",
    "df[df['has_outlier'] == True].to_csv('./data/results_anon_only_outliers.csv', index=False)\n",
    "df.to_csv('./data/results_anon.csv', index=False)\n",
    "\n",
    "print(f'🔴 {df[df[\"has_outlier\"] == True].shape[0]} experiments have values that are outliers according to 1.5 IQR')"
   ]
  }
 ],
 "metadata": {
  "kernelspec": {
   "display_name": ".venv",
   "language": "python",
   "name": "python3"
  },
  "language_info": {
   "codemirror_mode": {
    "name": "ipython",
    "version": 3
   },
   "file_extension": ".py",
   "mimetype": "text/x-python",
   "name": "python",
   "nbconvert_exporter": "python",
   "pygments_lexer": "ipython3",
   "version": "3.11.11"
  },
  "orig_nbformat": 4
 },
 "nbformat": 4,
 "nbformat_minor": 2
}
